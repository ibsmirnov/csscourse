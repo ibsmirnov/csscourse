{
 "cells": [
  {
   "cell_type": "markdown",
   "metadata": {},
   "source": [
    "# JSON\n",
    "```\n",
    "{'first_name': 'Ivan',\n",
    " 'last_name': 'Smirnov',\n",
    " 'papers': [\n",
    "     {'name': 'In search of lost profiles', 'year': 2016},\n",
    "     {'name': 'Gender bias in sharenting', 'year': 2019}\n",
    "  ]\n",
    "}\n",
    "```"
   ]
  },
  {
   "cell_type": "code",
   "execution_count": 1,
   "metadata": {},
   "outputs": [
    {
     "name": "stdout",
     "output_type": "stream",
     "text": [
      "http://map.cian.ru/ajax/map/roundabout/?deal_type=2&flats=yes&m2=1&currency=2&room2=1&engine_version=2&in_polygon[0]=55.749724_37.620887999999994,55.749724_37.660888,55.769724_37.620887999999994,55.769724_37.660888\n"
     ]
    }
   ],
   "source": [
    "#https://map.cian.ru/ajax/map/roundabout/?deal_type=2&flats=yes&m2=1&currency=2&room2=1&engine_version=2\n",
    "\n",
    "import time, json, urllib\n",
    "\n",
    "def get_square(area): \n",
    "    url = 'http://map.cian.ru/ajax/map/roundabout/?deal_type=2&flats=yes&m2=1&currency=2&room2=1&engine_version=2&in_polygon[0]='\n",
    "    coor = str(area[0]) + '_' + str(area[1])\n",
    "    coor += ',' + str(area[0]) + '_' + str(area[3])\n",
    "    coor += ',' + str(area[2]) + '_' + str(area[1])\n",
    "    coor += ',' + str(area[2]) + '_' + str(area[3])\n",
    "    url += coor\n",
    "    print(url) \n",
    "    time.sleep(0.5)\n",
    "    content = urllib.request.urlopen(url).read()   \n",
    "    \n",
    "    content = json.loads(content.decode(\"utf-8\"))\n",
    "    return content\n",
    "    \n",
    "step_1 = 0.01 \n",
    "step_2 = 0.02\n",
    "area = [55.759724 - step_1, 37.640888 - step_2, 55.759724 + step_1, 37.640888 + step_2]\n",
    "result = get_square(area)\n"
   ]
  },
  {
   "cell_type": "code",
   "execution_count": 7,
   "metadata": {},
   "outputs": [
    {
     "name": "stdout",
     "output_type": "stream",
     "text": [
      "55.7694 37.6493\n",
      "{'published_user_id': 49979226, 'color': '#e1d200', 'link_text': ['2-комн. кв.', '63 м<sup>2</sup>', '26 000 000 р.', 'этаж 8/26', '<a target=\"_blank\" href=\"https://cian.ru/sale/flat/231409627\" title=\"Перейти на карточку объекта\">19 фото</a>'], 'fav': '0', 'price_rur': '26000000.0', 'services': ['paid'], 'property_type': '2', 'id': '231409627'}\n"
     ]
    }
   ],
   "source": [
    "# Exploring result\n",
    "result['data']['points'].keys()\n",
    "for x in result['data']['points']:\n",
    "    print(x)\n",
    "    print(result['data']['points'][x]['offers'][0])\n",
    "    break"
   ]
  },
  {
   "cell_type": "code",
   "execution_count": 8,
   "metadata": {},
   "outputs": [
    {
     "data": {
      "text/plain": [
       "(array([45., 31.,  6.,  3.,  0.,  0.,  2.,  1.,  0.,  2.]),\n",
       " array([1.225000e+07, 2.882240e+07, 4.539480e+07, 6.196720e+07,\n",
       "        7.853960e+07, 9.511200e+07, 1.116844e+08, 1.282568e+08,\n",
       "        1.448292e+08, 1.614016e+08, 1.779740e+08]),\n",
       " <a list of 10 Patch objects>)"
      ]
     },
     "execution_count": 8,
     "metadata": {},
     "output_type": "execute_result"
    },
    {
     "data": {
      "image/png": "[encoded data removed]",
      "text/plain": [
       "<Figure size 432x288 with 1 Axes>"
      ]
     },
     "metadata": {
      "needs_background": "light"
     },
     "output_type": "display_data"
    }
   ],
   "source": [
    "points = result['data']['points']\n",
    "\n",
    "prices = []\n",
    "\n",
    "for point in points:\n",
    "    for offer in points[point]['offers']:        \n",
    "        prices.append(float(offer['price_rur']))\n",
    "\n",
    "%matplotlib inline  \n",
    "from matplotlib import pyplot as plt\n",
    "plt.hist(prices)"
   ]
  },
  {
   "cell_type": "code",
   "execution_count": null,
   "metadata": {
    "collapsed": true
   },
   "outputs": [],
   "source": [
    "def load_area(area):\n",
    "    result = []\n",
    "    data = get_square(area)\n",
    "\n",
    "    if (data['status'] == 'toomuch'):\n",
    "        result = []\n",
    "        x_mid = (area[2] + area[0]) / 2\n",
    "        y_mid = (area[3] + area[1]) / 2\n",
    "        result.extend(load_area([area[0], area[1], x_mid, y_mid]))\n",
    "        result.extend(load_area([x_mid, area[1], area[2], y_mid]))\n",
    "        result.extend(load_area([area[0], y_mid, x_mid, area[3]]))\n",
    "        result.extend(load_area([x_mid, y_mid, area[2], area[3]]))\n",
    "    else:\n",
    "        result.append(data)\n",
    "    return result"
   ]
  },
  {
   "cell_type": "markdown",
   "metadata": {},
   "source": [
    "# Example\n",
    "\n",
    "![St Petesburg Heat Map](http://ibsmirnov.com/img/cityheat.png)"
   ]
  }
 ],
 "metadata": {
  "kernelspec": {
   "display_name": "Python 3",
   "language": "python",
   "name": "python3"
  },
  "language_info": {
   "codemirror_mode": {
    "name": "ipython",
    "version": 3
   },
   "file_extension": ".py",
   "mimetype": "text/x-python",
   "name": "python",
   "nbconvert_exporter": "python",
   "pygments_lexer": "ipython3",
   "version": "3.7.4"
  }
 },
 "nbformat": 4,
 "nbformat_minor": 2
}
